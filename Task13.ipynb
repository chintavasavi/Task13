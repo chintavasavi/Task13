{
 "cells": [
  {
   "cell_type": "markdown",
   "id": "7a5d9195",
   "metadata": {},
   "source": [
    "\n",
    "\n",
    "    Write a function called \"add_numbers\" that takes two integers as input and returns their sum.\n",
    "\n",
    "    Write a function called \"multiply_numbers\" that takes two integers as input and returns their product.\n",
    "\n",
    "    Write a function called \"calculate_average\" that takes a list of numbers as input and returns the average of thosenumbers.\n",
    "\n",
    "    Write a function called \"is_even\" that takes an integer as input and returns True if the number is even, and False otherwise.\n",
    "\n",
    "    Write a function called \"reverse_string\" that takes a string as input and returns the reverse of that string.\n",
    "\n",
    "    Write a function called \"count_vowels\" that takes a string as input and returns the number of vowels (a, e, i, o, u) in that string.\n",
    "\n",
    "    Write a function called \"find_max\" that takes a list of numbers as input and returns the maximum value in that list.\n",
    "\n",
    "    Write a function called \"find_min\" that takes a list of numbers as input and returns the minimum value in that list.\n",
    "\n"
   ]
  },
  {
   "cell_type": "markdown",
   "id": "3b03c799",
   "metadata": {},
   "source": [
    "1.Write a function called \"add_numbers\" that takes two integers as input and returns their sum."
   ]
  },
  {
   "cell_type": "code",
   "execution_count": 22,
   "id": "aa8e1f96",
   "metadata": {},
   "outputs": [
    {
     "name": "stdout",
     "output_type": "stream",
     "text": [
      "33\n"
     ]
    }
   ],
   "source": [
    "def add_numbers(a,b):\n",
    "    print(a + b)\n",
    "add_numbers(15,18)"
   ]
  },
  {
   "cell_type": "markdown",
   "id": "30d16e5a",
   "metadata": {},
   "source": [
    "2.Write a function called \"multiply_numbers\" that takes two integers as input and returns their product.\n"
   ]
  },
  {
   "cell_type": "code",
   "execution_count": 23,
   "id": "71466cde",
   "metadata": {},
   "outputs": [
    {
     "name": "stdout",
     "output_type": "stream",
     "text": [
      "20\n"
     ]
    }
   ],
   "source": [
    "def multiply_numbers(x,y):\n",
    "    print(x*y)\n",
    "multiply_numbers(4,5)"
   ]
  },
  {
   "cell_type": "markdown",
   "id": "e9b4c2a0",
   "metadata": {},
   "source": [
    "3.Write a function called \"calculate_average\" that takes a list of numbers as input and returns the average of thosenumbers."
   ]
  },
  {
   "cell_type": "code",
   "execution_count": 27,
   "id": "b333031a",
   "metadata": {},
   "outputs": [
    {
     "name": "stdout",
     "output_type": "stream",
     "text": [
      "13.0\n"
     ]
    }
   ],
   "source": [
    "def calculate_average(a):\n",
    "    print(sum(a)/len(a))\n",
    "    \n",
    "calculate_average([20,30,5,4,6])"
   ]
  },
  {
   "cell_type": "markdown",
   "id": "f6188acc",
   "metadata": {},
   "source": [
    "4.Write a function called \"is_even\" that takes an integer as input and returns True if the number is even, and False otherwise.\n"
   ]
  },
  {
   "cell_type": "code",
   "execution_count": 2,
   "id": "53d5bed8",
   "metadata": {},
   "outputs": [],
   "source": [
    "def is_even(a):\n",
    "    if(a%2==0):\n",
    "        print(\"True\")\n",
    "    else:\n",
    "        print(\"False\")"
   ]
  },
  {
   "cell_type": "code",
   "execution_count": 3,
   "id": "dca2f40b",
   "metadata": {},
   "outputs": [
    {
     "name": "stdout",
     "output_type": "stream",
     "text": [
      "True\n"
     ]
    }
   ],
   "source": [
    "is_even(20)"
   ]
  },
  {
   "cell_type": "code",
   "execution_count": 4,
   "id": "92264276",
   "metadata": {},
   "outputs": [
    {
     "name": "stdout",
     "output_type": "stream",
     "text": [
      "False\n"
     ]
    }
   ],
   "source": [
    "is_even(3)"
   ]
  },
  {
   "cell_type": "markdown",
   "id": "ff07cd72",
   "metadata": {},
   "source": [
    "5.Write a function called \"reverse_string\" that takes a string as input and returns the reverse of that string."
   ]
  },
  {
   "cell_type": "code",
   "execution_count": 3,
   "id": "6ae378ee",
   "metadata": {},
   "outputs": [
    {
     "name": "stdout",
     "output_type": "stream",
     "text": [
      "ivasav\n"
     ]
    }
   ],
   "source": [
    "def reverse_string(x):\n",
    "    print(x[::-1])\n",
    "reverse_string(\"vasavi\")"
   ]
  },
  {
   "cell_type": "markdown",
   "id": "94cfd678",
   "metadata": {},
   "source": [
    "6.Write a function called \"count_vowels\" that takes a string as input and returns the number of vowels (a, e, i, o, u) in that string."
   ]
  },
  {
   "cell_type": "code",
   "execution_count": 8,
   "id": "2bfb911d",
   "metadata": {},
   "outputs": [
    {
     "name": "stdout",
     "output_type": "stream",
     "text": [
      "['o', 'a', 'i', 'e', 'e', 'a', 'a']\n",
      "The vowels present in this are :  7\n"
     ]
    }
   ],
   "source": [
    "count = []\n",
    "vowels = ['a','e','i','o','u']\n",
    "def count_vowels(a):\n",
    "    for i in a:\n",
    "        if i in vowels:\n",
    "            count.append(i)\n",
    "    print(count)\n",
    "    print(\"The vowels present in this are : \", len(count))\n",
    "count_vowels(\"Innomatics Research Labs\")\n",
    "        "
   ]
  },
  {
   "cell_type": "markdown",
   "id": "e589f103",
   "metadata": {},
   "source": [
    "7.Write a function called \"find_max\" that takes a list of numbers as input and returns the maximum value in that list."
   ]
  },
  {
   "cell_type": "code",
   "execution_count": 14,
   "id": "7c8edec1",
   "metadata": {},
   "outputs": [],
   "source": [
    "def find_max(x):\n",
    "    print(max(x))\n",
    "x=(2,22,32,45,99)"
   ]
  },
  {
   "cell_type": "code",
   "execution_count": 16,
   "id": "2c2bc0fb",
   "metadata": {},
   "outputs": [
    {
     "name": "stdout",
     "output_type": "stream",
     "text": [
      "99\n"
     ]
    }
   ],
   "source": [
    "find_max(x)"
   ]
  },
  {
   "cell_type": "markdown",
   "id": "f1498fc0",
   "metadata": {},
   "source": [
    "8.Write a function called \"find_min\" that takes a list of numbers as input and returns the minimum value in that list."
   ]
  },
  {
   "cell_type": "code",
   "execution_count": 23,
   "id": "042c14d9",
   "metadata": {},
   "outputs": [],
   "source": [
    "def find_min(y):\n",
    "    print(min(y))\n",
    "y=(3,10,30,48,59,60)"
   ]
  },
  {
   "cell_type": "code",
   "execution_count": 24,
   "id": "f26735af",
   "metadata": {},
   "outputs": [
    {
     "name": "stdout",
     "output_type": "stream",
     "text": [
      "3\n"
     ]
    }
   ],
   "source": [
    "find_min(y)"
   ]
  },
  {
   "cell_type": "code",
   "execution_count": null,
   "id": "1011171f",
   "metadata": {},
   "outputs": [],
   "source": []
  }
 ],
 "metadata": {
  "kernelspec": {
   "display_name": "Python 3 (ipykernel)",
   "language": "python",
   "name": "python3"
  },
  "language_info": {
   "codemirror_mode": {
    "name": "ipython",
    "version": 3
   },
   "file_extension": ".py",
   "mimetype": "text/x-python",
   "name": "python",
   "nbconvert_exporter": "python",
   "pygments_lexer": "ipython3",
   "version": "3.11.4"
  }
 },
 "nbformat": 4,
 "nbformat_minor": 5
}
